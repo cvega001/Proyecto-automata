{
  "nbformat": 4,
  "nbformat_minor": 0,
  "metadata": {
    "colab": {
      "provenance": []
    },
    "kernelspec": {
      "name": "python3",
      "display_name": "Python 3"
    },
    "language_info": {
      "name": "python"
    }
  },
  "cells": [
    {
      "cell_type": "code",
      "source": [
        "class DFA:\n",
        "    def __init__(self, states, input_symbols, transitions, initial_state, final_states):\n",
        "        self.states = states\n",
        "        self.input_symbols = input_symbols\n",
        "        self.transitions = transitions\n",
        "        self.current_state = initial_state\n",
        "        self.final_states = final_states\n",
        "\n",
        "    def process_input(self, input_string):\n",
        "        for symbol in input_string.split(','):  # Dividimos la entrada por ','\n",
        "            if symbol not in self.input_symbols:\n",
        "                return False\n",
        "\n",
        "            if self.current_state not in self.transitions or symbol not in self.transitions[self.current_state]:\n",
        "                return False\n",
        "\n",
        "            self.current_state = self.transitions[self.current_state][symbol]\n",
        "\n",
        "        return self.current_state in self.final_states\n",
        "\n",
        "def ensamblar_celular(input_string):\n",
        "    d = celular_assembler_dfa\n",
        "    if d.process_input(input_string):\n",
        "        version_celular = d.current_state  # La versión del celular es el estado actual del DFA\n",
        "        print(f\"Versión del celular ensamblado: {version_celular}\")\n",
        "    else:\n",
        "        print(\"Error en el ensamblaje. Combinación de componentes inválida.\")\n",
        "\n",
        "# Definimos el autómata para el ensamblaje de celulares\n",
        "celular_assembler_dfa = DFA(\n",
        "    states={'q0', 'q1', 'q2', 'q3', 'q4', 'q5', 'q6'},\n",
        "    input_symbols={'bateria1', 'bateria2', 'pantalla1', 'pantalla2', 'camara1', 'camara2'},\n",
        "    transitions={\n",
        "        'q0': {'bateria1': 'q1', 'bateria2': 'q2'},\n",
        "        'q1': {'pantalla2': 'q3'},\n",
        "        'q2': {'pantalla1': 'q4'},\n",
        "        'q3': {'camara1': 'q6'},\n",
        "        'q4': {'camara2': 'q6'},\n",
        "        'q5': {'camara1': 'q6'},\n",
        "        'q6': {'bateria1', 'bateria2', 'pantalla1', 'pantalla2', 'camara1', 'camara2'}  # Cualquier opción lleva al estado final q6\n",
        "    },\n",
        "    initial_state='q0',\n",
        "    final_states={'q6'}\n",
        ")\n",
        "\n",
        "# Ejemplo de uso:\n",
        "if __name__ == \"__main__\":\n",
        "    print(\"Bienvenido al ensamblaje de celulares:\")\n",
        "    print(\"Opciones disponibles: bateria1, bateria2, pantalla1, pantalla2, camara1, camara2\")\n",
        "    entrada = input(\"Ingrese la combinación de componentes (ejemplo: bateria1,pantalla2,camara1): \")\n",
        "    ensamblar_celular(entrada)\n"
      ],
      "metadata": {
        "colab": {
          "base_uri": "https://localhost:8080/"
        },
        "id": "Ld84rJ9557oJ",
        "outputId": "ac2152ef-a947-48e5-91aa-afe3291371af"
      },
      "execution_count": 38,
      "outputs": [
        {
          "output_type": "stream",
          "name": "stdout",
          "text": [
            "Bienvenido al ensamblaje de celulares:\n",
            "Opciones disponibles: bateria1, bateria2, pantalla1, pantalla2, camara1, camara2\n",
            "Ingrese la combinación de componentes (ejemplo: bateria1,pantalla2,camara1): bateria2,pantalla1,camara2\n",
            "Versión del celular ensamblado: q6\n"
          ]
        }
      ]
    }
  ]
}